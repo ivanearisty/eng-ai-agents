{
 "cells": [
  {
   "cell_type": "markdown",
   "id": "e49ec76d",
   "metadata": {},
   "source": [
    "# Convolutional Neural Networks for Image Classification"
   ]
  },
  {
   "cell_type": "code",
   "execution_count": 7,
   "id": "a3f77ce9",
   "metadata": {},
   "outputs": [
    {
     "data": {
      "application/vnd.jupyter.widget-view+json": {
       "model_id": "09045a980a824bdcb541ef0cb9b16f3b",
       "version_major": 2,
       "version_minor": 0
      },
      "text/plain": [
       "dogs-vs-cats-subset.zip:   0%|          | 0.00/90.8M [00:00<?, ?B/s]"
      ]
     },
     "metadata": {},
     "output_type": "display_data"
    },
    {
     "data": {
      "application/vnd.jupyter.widget-view+json": {
       "model_id": "4b99140f90c144aba62668d2bc7da002",
       "version_major": 2,
       "version_minor": 0
      },
      "text/plain": [
       "Generating train split:   0%|          | 0/4000 [00:00<?, ? examples/s]"
      ]
     },
     "metadata": {},
     "output_type": "display_data"
    }
   ],
   "source": [
    "from datasets import load_dataset\n",
    "\n",
    "\n",
    "ds = load_dataset(\"pantelism/cats-vs-dogs\")"
   ]
  },
  {
   "cell_type": "code",
   "execution_count": 8,
   "id": "332ebbdc",
   "metadata": {},
   "outputs": [
    {
     "data": {
      "text/plain": [
       "device(type='cpu')"
      ]
     },
     "execution_count": 8,
     "metadata": {},
     "output_type": "execute_result"
    }
   ],
   "source": [
    "import torch\n",
    "from datasets import load_dataset\n",
    "from torch import nn, optim\n",
    "from torch.utils.data import DataLoader, Dataset\n",
    "from torchsummary import summary\n",
    "from torchvision import transforms\n",
    "\n",
    "\n",
    "device = torch.device(\"cuda:0\" if torch.cuda.is_available() else \"cpu\")\n",
    "if torch.cuda.is_available():\n",
    "    print(torch.cuda.current_device())\n",
    "    print(torch.cuda.device_count())\n",
    "    print(torch.cuda.get_device_name(0))\n",
    "\n",
    "device"
   ]
  },
  {
   "cell_type": "code",
   "execution_count": 9,
   "id": "f418924e",
   "metadata": {},
   "outputs": [
    {
     "data": {
      "text/plain": [
       "DatasetDict({\n",
       "    train: Dataset({\n",
       "        features: ['image', 'label'],\n",
       "        num_rows: 4000\n",
       "    })\n",
       "})"
      ]
     },
     "execution_count": 9,
     "metadata": {},
     "output_type": "execute_result"
    }
   ],
   "source": [
    "ds"
   ]
  },
  {
   "cell_type": "code",
   "execution_count": null,
   "id": "cf49393c",
   "metadata": {},
   "outputs": [],
   "source": [
    "split = ds['train'].train_test_split(test_size=0.2, seed=42)\n",
    "val_test = split['test'].train_test_split(test_size=0.5, seed=42)\n",
    "\n",
    "train_dataset = split['train']\n",
    "val_dataset = val_test['train']\n",
    "test_dataset = val_test['test']"
   ]
  },
  {
   "cell_type": "code",
   "execution_count": 11,
   "id": "b3e8d13b",
   "metadata": {},
   "outputs": [
    {
     "name": "stdout",
     "output_type": "stream",
     "text": [
      "Train: 3200\n",
      "Val: 400\n",
      "Test: 400\n"
     ]
    }
   ],
   "source": [
    "print(\"Train:\", len(train_dataset))\n",
    "print(\"Val:\", len(val_dataset))\n",
    "print(\"Test:\", len(test_dataset))\n"
   ]
  },
  {
   "cell_type": "code",
   "execution_count": 12,
   "id": "026d3c74",
   "metadata": {},
   "outputs": [],
   "source": [
    "transform = transforms.Compose([\n",
    "    transforms.Resize((150, 150)),\n",
    "    transforms.ToTensor(),\n",
    "    transforms.Normalize((0.5, 0.5, 0.5), (0.5, 0.5, 0.5))\n",
    "])"
   ]
  },
  {
   "cell_type": "code",
   "execution_count": 13,
   "id": "17e903e1",
   "metadata": {},
   "outputs": [],
   "source": [
    "class HFDataset(Dataset):\n",
    "    def __init__(self, hf_ds, transform=None):\n",
    "        self.ds = hf_ds\n",
    "        self.transform = transform\n",
    "    def __len__(self):\n",
    "        return len(self.ds)\n",
    "    def __getitem__(self, idx):\n",
    "        item = self.ds[idx]\n",
    "        img = item[\"image\"].convert(\"RGB\")\n",
    "        if self.transform:\n",
    "            img = self.transform(img)\n",
    "        label = int(item[\"label\"])\n",
    "        return img, label\n",
    "\n",
    "train_ds = HFDataset(train_dataset, transform)\n",
    "val_ds   = HFDataset(val_dataset, transform)\n",
    "test_ds  = HFDataset(test_dataset, transform)\n",
    "\n",
    "train_loader = DataLoader(train_ds, batch_size=32, shuffle=True)\n",
    "val_loader   = DataLoader(val_ds, batch_size=32, shuffle=False)\n",
    "test_loader  = DataLoader(test_ds, batch_size=32, shuffle=False)\n",
    "\n"
   ]
  },
  {
   "cell_type": "code",
   "execution_count": 14,
   "id": "865e2f55",
   "metadata": {},
   "outputs": [],
   "source": [
    "class CNN(nn.Module):\n",
    "    def __init__(self):\n",
    "        super().__init__()\n",
    "        self.features = nn.Sequential(\n",
    "            nn.Conv2d(3, 32, 3, padding=1), nn.ReLU(), nn.MaxPool2d(2),\n",
    "            nn.Conv2d(32, 64, 3, padding=1), nn.ReLU(), nn.MaxPool2d(2),\n",
    "            nn.Conv2d(64, 128, 3, padding=1), nn.ReLU(), nn.MaxPool2d(2),\n",
    "            nn.Conv2d(128, 128, 3, padding=1), nn.ReLU(), nn.MaxPool2d(2)\n",
    "        )\n",
    "        self.classifier = nn.Sequential(\n",
    "            nn.Linear(128 * 9 * 9, 1)\n",
    "        )\n",
    "    def forward(self, x):\n",
    "        x = self.features(x)\n",
    "        x = x.view(x.size(0), -1)\n",
    "        x = self.classifier(x)\n",
    "        return x"
   ]
  },
  {
   "cell_type": "code",
   "execution_count": 15,
   "id": "f1f3990c",
   "metadata": {},
   "outputs": [
    {
     "name": "stdout",
     "output_type": "stream",
     "text": [
      "----------------------------------------------------------------\n",
      "        Layer (type)               Output Shape         Param #\n",
      "================================================================\n",
      "            Conv2d-1         [-1, 32, 150, 150]             896\n",
      "              ReLU-2         [-1, 32, 150, 150]               0\n",
      "         MaxPool2d-3           [-1, 32, 75, 75]               0\n",
      "            Conv2d-4           [-1, 64, 75, 75]          18,496\n",
      "              ReLU-5           [-1, 64, 75, 75]               0\n",
      "         MaxPool2d-6           [-1, 64, 37, 37]               0\n",
      "            Conv2d-7          [-1, 128, 37, 37]          73,856\n",
      "              ReLU-8          [-1, 128, 37, 37]               0\n",
      "         MaxPool2d-9          [-1, 128, 18, 18]               0\n",
      "           Conv2d-10          [-1, 128, 18, 18]         147,584\n",
      "             ReLU-11          [-1, 128, 18, 18]               0\n",
      "        MaxPool2d-12            [-1, 128, 9, 9]               0\n",
      "           Linear-13                    [-1, 1]          10,369\n",
      "================================================================\n",
      "Total params: 251,201\n",
      "Trainable params: 251,201\n",
      "Non-trainable params: 0\n",
      "----------------------------------------------------------------\n",
      "Input size (MB): 0.26\n",
      "Forward/backward pass size (MB): 22.22\n",
      "Params size (MB): 0.96\n",
      "Estimated Total Size (MB): 23.44\n",
      "----------------------------------------------------------------\n"
     ]
    }
   ],
   "source": [
    "model = CNN().to(device)\n",
    "summary(model, (3, 150, 150))"
   ]
  },
  {
   "cell_type": "code",
   "execution_count": 61,
   "id": "15fd8658",
   "metadata": {},
   "outputs": [],
   "source": [
    "device = torch.device('cuda' if torch.cuda.is_available() else 'cpu')\n",
    "model = CNN().to(device)  # use defined CNN class\n",
    "# Use BCEWithLogitsLoss because the model outputs raw logits (no sigmoid)\n",
    "criterion = nn.BCEWithLogitsLoss()\n",
    "optimizer = optim.RMSprop(model.parameters(), lr=1e-4)\n"
   ]
  },
  {
   "cell_type": "code",
   "execution_count": 62,
   "id": "61705ccf",
   "metadata": {},
   "outputs": [
    {
     "name": "stdout",
     "output_type": "stream",
     "text": [
      "Epoch 1 | Train Acc: 0.553 | Val Acc: 0.568\n",
      "Epoch 2 | Train Acc: 0.635 | Val Acc: 0.600\n",
      "Epoch 3 | Train Acc: 0.678 | Val Acc: 0.642\n",
      "Epoch 4 | Train Acc: 0.701 | Val Acc: 0.660\n",
      "Epoch 5 | Train Acc: 0.715 | Val Acc: 0.670\n",
      "Epoch 6 | Train Acc: 0.724 | Val Acc: 0.682\n",
      "Epoch 7 | Train Acc: 0.742 | Val Acc: 0.688\n",
      "Epoch 8 | Train Acc: 0.751 | Val Acc: 0.680\n",
      "Epoch 9 | Train Acc: 0.757 | Val Acc: 0.703\n",
      "Epoch 10 | Train Acc: 0.769 | Val Acc: 0.735\n",
      "Epoch 11 | Train Acc: 0.775 | Val Acc: 0.723\n",
      "Epoch 12 | Train Acc: 0.782 | Val Acc: 0.728\n",
      "Epoch 13 | Train Acc: 0.782 | Val Acc: 0.715\n",
      "Epoch 14 | Train Acc: 0.787 | Val Acc: 0.685\n",
      "Epoch 15 | Train Acc: 0.793 | Val Acc: 0.738\n",
      "Epoch 16 | Train Acc: 0.802 | Val Acc: 0.733\n",
      "Epoch 17 | Train Acc: 0.807 | Val Acc: 0.740\n",
      "Epoch 18 | Train Acc: 0.812 | Val Acc: 0.752\n",
      "Epoch 19 | Train Acc: 0.816 | Val Acc: 0.735\n",
      "Epoch 20 | Train Acc: 0.825 | Val Acc: 0.752\n"
     ]
    }
   ],
   "source": [
    "train_acc, val_acc, train_loss, val_loss = [], [], [], []\n",
    "\n",
    "for epoch in range(20):\n",
    "    model.train()\n",
    "    running_loss, correct, total = 0, 0, 0\n",
    "    for images, labels in train_loader:\n",
    "        images, labels = images.to(device), labels.float().unsqueeze(1).to(device)\n",
    "        optimizer.zero_grad()\n",
    "        outputs = model(images)\n",
    "        loss = criterion(outputs, labels)\n",
    "        loss.backward()\n",
    "        optimizer.step()\n",
    "        running_loss += loss.item()\n",
    "        probs = torch.sigmoid(outputs)\n",
    "        preds = (probs > 0.5).float()\n",
    "        correct += (preds == labels).sum().item()\n",
    "        total += labels.size(0)\n",
    "    train_acc.append(correct/total)\n",
    "    train_loss.append(running_loss/len(train_loader))\n",
    "\n",
    "    model.eval()\n",
    "    v_loss, v_correct, v_total = 0, 0, 0\n",
    "    with torch.no_grad():\n",
    "        for images, labels in val_loader:\n",
    "            images, labels = images.to(device), labels.float().unsqueeze(1).to(device)\n",
    "            outputs = model(images)\n",
    "            loss = criterion(outputs, labels)\n",
    "            v_loss += loss.item()\n",
    "            probs = torch.sigmoid(outputs)\n",
    "            preds = (probs > 0.5).float()\n",
    "            v_correct += (preds == labels).sum().item()\n",
    "            v_total += labels.size(0)\n",
    "    val_acc.append(v_correct/v_total)\n",
    "    val_loss.append(v_loss/len(val_loader))\n",
    "    print(f\"Epoch {epoch+1} | Train Acc: {train_acc[-1]:.3f} | Val Acc: {val_acc[-1]:.3f}\")\n"
   ]
  },
  {
   "cell_type": "code",
   "execution_count": 63,
   "id": "4827e009",
   "metadata": {},
   "outputs": [],
   "source": [
    "torch.save(model.state_dict(), 'cat_dog_cnn_model.pth')"
   ]
  },
  {
   "cell_type": "markdown",
   "id": "d3b57a9b",
   "metadata": {},
   "source": [
    "# Don't grade this cs i didnt have the time"
   ]
  },
  {
   "cell_type": "code",
   "execution_count": 65,
   "id": "4a011678",
   "metadata": {},
   "outputs": [
    {
     "name": "stdout",
     "output_type": "stream",
     "text": [
      "False\n"
     ]
    }
   ],
   "source": [
    "# Attempt 2 cs that sucked\n",
    "import torch\n",
    "\n",
    "\n",
    "print(torch.backends.mps.is_available())"
   ]
  },
  {
   "cell_type": "code",
   "execution_count": 16,
   "id": "de48e144",
   "metadata": {},
   "outputs": [
    {
     "name": "stdout",
     "output_type": "stream",
     "text": [
      "tensor([1.], device='mps:0')\n"
     ]
    }
   ],
   "source": [
    "import torch\n",
    "\n",
    "\n",
    "if torch.backends.mps.is_available():\n",
    "    mps_device = torch.device(\"mps\")\n",
    "    x = torch.ones(1, device=mps_device)\n",
    "    print (x)\n",
    "else:\n",
    "    print (\"MPS device not found.\")"
   ]
  },
  {
   "cell_type": "code",
   "execution_count": 17,
   "id": "192efa39",
   "metadata": {},
   "outputs": [
    {
     "name": "stdout",
     "output_type": "stream",
     "text": [
      "arm64\n"
     ]
    }
   ],
   "source": [
    "import platform; print(platform.machine())"
   ]
  },
  {
   "cell_type": "code",
   "execution_count": null,
   "id": "54dbc04a",
   "metadata": {},
   "outputs": [
    {
     "name": "stdout",
     "output_type": "stream",
     "text": [
      "mps\n"
     ]
    }
   ],
   "source": [
    "import torch\n",
    "from torch import nn, optim\n",
    "\n",
    "\n",
    "class CNN(nn.Module):\n",
    "    def __init__(self):\n",
    "        super().__init__()\n",
    "        self.features = nn.Sequential(\n",
    "            nn.Conv2d(3, 32, 3, padding=1), nn.ReLU(), nn.MaxPool2d(2),\n",
    "            nn.Conv2d(32, 64, 3, padding=1), nn.ReLU(), nn.MaxPool2d(2),\n",
    "            nn.Conv2d(64, 128, 3, padding=1), nn.ReLU(), nn.MaxPool2d(2),\n",
    "            nn.Conv2d(128, 128, 3, padding=1), nn.ReLU(), nn.MaxPool2d(2)\n",
    "        )\n",
    "        self.gap = nn.AdaptiveAvgPool2d(1)   # -> (B,128,1,1)\n",
    "        self.classifier = nn.Linear(128, 1)  # -> expects (B,128)\n",
    "\n",
    "    def forward(self, x):\n",
    "        x = self.features(x)                 # (B,128,H,W)\n",
    "        x = self.gap(x)                      # (B,128,1,1)\n",
    "        x = torch.flatten(x, 1)              # (B,128)\n",
    "        x = self.classifier(x)               # (B,1)\n",
    "        return x\n",
    "\n",
    "device = torch.device('mps' if torch.backends.mps.is_available() else 'cpu')\n",
    "print(device)\n",
    "model = CNN().to(device)\n",
    "\n",
    "criterion = nn.BCEWithLogitsLoss()\n",
    "optimizer = optim.Adam(model.parameters(), lr=3e-4, weight_decay=1e-4)\n",
    "scheduler = optim.lr_scheduler.ReduceLROnPlateau(optimizer, mode='min', factor=0.5, patience=2)\n"
   ]
  },
  {
   "cell_type": "code",
   "execution_count": null,
   "id": "a33d129f",
   "metadata": {},
   "outputs": [
    {
     "name": "stdout",
     "output_type": "stream",
     "text": [
      "Epoch 01 | train acc 0.517 loss 0.690 | val acc 0.545 loss 0.689\n"
     ]
    }
   ],
   "source": [
    "best_val = float('inf'); patience=5; bad=0\n",
    "train_acc, val_acc, train_loss, val_loss = [], [], [], []\n",
    "\n",
    "for epoch in range(40):\n",
    "    model.train()\n",
    "    tot_loss = tot_correct = tot = 0\n",
    "    for images, labels in train_loader:\n",
    "        images = images.to(device)\n",
    "        labels = labels.float().unsqueeze(1).to(device)\n",
    "\n",
    "        optimizer.zero_grad()\n",
    "        logits = model(images)\n",
    "        loss = criterion(logits, labels)\n",
    "        loss.backward()\n",
    "        optimizer.step()\n",
    "\n",
    "        tot_loss += loss.item()\n",
    "        preds = (torch.sigmoid(logits) > 0.5).float()\n",
    "        tot_correct += (preds == labels).sum().item()\n",
    "        tot += labels.size(0)\n",
    "\n",
    "    tr_loss = tot_loss/len(train_loader)\n",
    "    tr_acc = tot_correct/tot\n",
    "\n",
    "    model.eval()\n",
    "    v_loss = v_correct = v_tot = 0\n",
    "    with torch.no_grad():\n",
    "        for images, labels in val_loader:\n",
    "            images = images.to(device)\n",
    "            labels = labels.float().unsqueeze(1).to(device)\n",
    "            logits = model(images)\n",
    "            loss = criterion(logits, labels)\n",
    "            v_loss += loss.item()\n",
    "            v_preds = (torch.sigmoid(logits) > 0.5).float()\n",
    "            v_correct += (v_preds == labels).sum().item()\n",
    "            v_tot += labels.size(0)\n",
    "\n",
    "    va_loss = v_loss/len(val_loader)\n",
    "    va_acc = v_correct/v_tot\n",
    "\n",
    "    scheduler.step(va_loss)\n",
    "\n",
    "    train_acc.append(tr_acc); val_acc.append(va_acc)\n",
    "    train_loss.append(tr_loss); val_loss.append(va_loss)\n",
    "    print(f\"Epoch {epoch+1:02d} | train acc {tr_acc:.3f} loss {tr_loss:.3f} | val acc {va_acc:.3f} loss {va_loss:.3f}\")\n",
    "\n",
    "    # simple early stop\n",
    "    if va_loss < best_val - 1e-4:\n",
    "        best_val = va_loss\n",
    "        bad = 0\n",
    "        best_state = {k: v.cpu() for k, v in model.state_dict().items()}\n",
    "    else:\n",
    "        bad += 1\n",
    "        if bad >= patience:\n",
    "            print(\"Early stopping.\")\n",
    "            break\n",
    "\n",
    "model.load_state_dict({k: v.to(device) for k, v in best_state.items()})\n"
   ]
  },
  {
   "cell_type": "code",
   "execution_count": null,
   "id": "7e888e78",
   "metadata": {},
   "outputs": [],
   "source": []
  }
 ],
 "metadata": {
  "kernelspec": {
   "display_name": "eng-ai-agents",
   "language": "python",
   "name": "python3"
  },
  "language_info": {
   "codemirror_mode": {
    "name": "ipython",
    "version": 3
   },
   "file_extension": ".py",
   "mimetype": "text/x-python",
   "name": "python",
   "nbconvert_exporter": "python",
   "pygments_lexer": "ipython3",
   "version": "3.11.13"
  }
 },
 "nbformat": 4,
 "nbformat_minor": 5
}
